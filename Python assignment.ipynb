{
 "cells": [
  {
   "cell_type": "code",
   "execution_count": 3,
   "id": "34dcdf0b-0df0-4980-aca2-c3af9b54742a",
   "metadata": {},
   "outputs": [
    {
     "name": "stdout",
     "output_type": "stream",
     "text": [
      "hello\n"
     ]
    }
   ],
   "source": [
    "print(\"hello\")"
   ]
  },
  {
   "cell_type": "code",
   "execution_count": 12,
   "id": "742f3d18-7e30-4df7-8f94-ffa4bde41ba4",
   "metadata": {},
   "outputs": [
    {
     "name": "stdout",
     "output_type": "stream",
     "text": [
      "Rajesh\n"
     ]
    }
   ],
   "source": [
    "name=\"Rajesh\"\n",
    "print(name)\n"
   ]
  },
  {
   "cell_type": "code",
   "execution_count": 14,
   "id": "966220a9-fd77-4b25-96e5-eba9414241c0",
   "metadata": {},
   "outputs": [
    {
     "data": {
      "text/plain": [
       "'Rajesh'"
      ]
     },
     "execution_count": 14,
     "metadata": {},
     "output_type": "execute_result"
    }
   ],
   "source": [
    "name"
   ]
  },
  {
   "cell_type": "code",
   "execution_count": 16,
   "id": "1c339241-c2c5-4f3a-be06-1ea4414299e1",
   "metadata": {},
   "outputs": [
    {
     "name": "stdout",
     "output_type": "stream",
     "text": [
      "arun\n"
     ]
    }
   ],
   "source": [
    "name=\"arun\"\n",
    "print(name)"
   ]
  },
  {
   "cell_type": "code",
   "execution_count": 38,
   "id": "f549e1b0-8270-41fd-b67d-213c1a09bb1b",
   "metadata": {},
   "outputs": [
    {
     "name": "stdout",
     "output_type": "stream",
     "text": [
      "Hello Eric, would you like to learn some Python today?\n"
     ]
    }
   ],
   "source": [
    "message=\"Eric\"\n",
    "print(f\"Hello {message}, would you like to learn some Python today?\")"
   ]
  },
  {
   "cell_type": "code",
   "execution_count": 40,
   "id": "dca73e22-d61b-4426-ac20-e33298a49f4c",
   "metadata": {},
   "outputs": [
    {
     "name": "stdout",
     "output_type": "stream",
     "text": [
      "Albert Einstein once said, \"A person who never made a mistake never tried anything new.\"\n"
     ]
    }
   ],
   "source": [
    "quote = \"A person who never made a mistake never tried anything new.\"\n",
    "author = \"Albert Einstein\"\n",
    "print(f'{author} once said, \"{quote}\"')"
   ]
  },
  {
   "cell_type": "code",
   "execution_count": 42,
   "id": "c5f907c7-f39c-419c-af14-9682e4298fb7",
   "metadata": {},
   "outputs": [
    {
     "name": "stdout",
     "output_type": "stream",
     "text": [
      "Albert Einstein once said, \"A person who never made a mistake never tried anything new.\"\n"
     ]
    }
   ],
   "source": [
    "famous_person = \"Albert Einstein\"\n",
    "quote = \"A person who never made a mistake never tried anything new.\"\n",
    "message = f'{famous_person} once said, \"{quote}\"'\n",
    "print(message)\n"
   ]
  },
  {
   "cell_type": "code",
   "execution_count": 46,
   "id": "1af5cd2e-b434-4527-b659-4bdf91494696",
   "metadata": {},
   "outputs": [
    {
     "name": "stdout",
     "output_type": "stream",
     "text": [
      "8\n",
      "8\n",
      "8\n",
      "8.0\n"
     ]
    }
   ],
   "source": [
    "print(5 + 3)\n",
    "print(10 - 2)\n",
    "print(4 * 2)\n",
    "print(16 / 2)\n"
   ]
  },
  {
   "cell_type": "code",
   "execution_count": 48,
   "id": "0477cfcc-cfc8-4737-aafd-64bdc2bdade4",
   "metadata": {},
   "outputs": [
    {
     "name": "stdout",
     "output_type": "stream",
     "text": [
      "My favorite number is 7.\n"
     ]
    }
   ],
   "source": [
    "favorite_number = 7\n",
    "message = f\"My favorite number is {favorite_number}.\"\n",
    "print(message)\n"
   ]
  }
 ],
 "metadata": {
  "kernelspec": {
   "display_name": "Python [conda env:base] *",
   "language": "python",
   "name": "conda-base-py"
  },
  "language_info": {
   "codemirror_mode": {
    "name": "ipython",
    "version": 3
   },
   "file_extension": ".py",
   "mimetype": "text/x-python",
   "name": "python",
   "nbconvert_exporter": "python",
   "pygments_lexer": "ipython3",
   "version": "3.12.7"
  }
 },
 "nbformat": 4,
 "nbformat_minor": 5
}
